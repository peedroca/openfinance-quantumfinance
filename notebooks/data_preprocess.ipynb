{
 "cells": [
  {
   "cell_type": "markdown",
   "metadata": {},
   "source": [
    "# Limpando os dados para trabalharmos em nosso sistema de recomendação"
   ]
  },
  {
   "cell_type": "code",
   "execution_count": 3,
   "metadata": {},
   "outputs": [],
   "source": [
    "import pandas as pd\n",
    "import random\n",
    "\n",
    "import mysql.connector\n",
    "from sqlalchemy import create_engine"
   ]
  },
  {
   "cell_type": "code",
   "execution_count": 2,
   "metadata": {},
   "outputs": [],
   "source": [
    "username = 'root'\n",
    "password = 'rootpassword'\n",
    "host = 'localhost' \n",
    "database = 'db_recommendations_system'\n",
    "\n",
    "engine = create_engine(f'mysql+mysqlconnector://{username}:{password}@{host}/{database}')"
   ]
  },
  {
   "cell_type": "markdown",
   "metadata": {},
   "source": [
    "# Carregando bancos conectados a Quantum Finance"
   ]
  },
  {
   "cell_type": "code",
   "execution_count": 6,
   "metadata": {},
   "outputs": [
    {
     "data": {
      "text/html": [
       "<div>\n",
       "<style scoped>\n",
       "    .dataframe tbody tr th:only-of-type {\n",
       "        vertical-align: middle;\n",
       "    }\n",
       "\n",
       "    .dataframe tbody tr th {\n",
       "        vertical-align: top;\n",
       "    }\n",
       "\n",
       "    .dataframe thead th {\n",
       "        text-align: right;\n",
       "    }\n",
       "</style>\n",
       "<table border=\"1\" class=\"dataframe\">\n",
       "  <thead>\n",
       "    <tr style=\"text-align: right;\">\n",
       "      <th></th>\n",
       "      <th>descricao</th>\n",
       "      <th>codigo</th>\n",
       "      <th>id_banco</th>\n",
       "    </tr>\n",
       "  </thead>\n",
       "  <tbody>\n",
       "    <tr>\n",
       "      <th>0</th>\n",
       "      <td>Banco do Brasil</td>\n",
       "      <td>1</td>\n",
       "      <td>0</td>\n",
       "    </tr>\n",
       "    <tr>\n",
       "      <th>1</th>\n",
       "      <td>Caixa Econômica Federal</td>\n",
       "      <td>104</td>\n",
       "      <td>0</td>\n",
       "    </tr>\n",
       "    <tr>\n",
       "      <th>2</th>\n",
       "      <td>Itaú Unibanco</td>\n",
       "      <td>341</td>\n",
       "      <td>0</td>\n",
       "    </tr>\n",
       "    <tr>\n",
       "      <th>3</th>\n",
       "      <td>Bradesco</td>\n",
       "      <td>237</td>\n",
       "      <td>0</td>\n",
       "    </tr>\n",
       "    <tr>\n",
       "      <th>4</th>\n",
       "      <td>Santander</td>\n",
       "      <td>33</td>\n",
       "      <td>0</td>\n",
       "    </tr>\n",
       "  </tbody>\n",
       "</table>\n",
       "</div>"
      ],
      "text/plain": [
       "                 descricao  codigo  id_banco\n",
       "0          Banco do Brasil       1         0\n",
       "1  Caixa Econômica Federal     104         0\n",
       "2            Itaú Unibanco     341         0\n",
       "3                 Bradesco     237         0\n",
       "4                Santander      33         0"
      ]
     },
     "execution_count": 6,
     "metadata": {},
     "output_type": "execute_result"
    }
   ],
   "source": [
    "bancos = pd.read_csv('../data/bancos_codigos.csv')\n",
    "bancos.columns = ['descricao', 'codigo']\n",
    "bancos['id_banco'] = 0\n",
    "\n",
    "bancos.head()"
   ]
  },
  {
   "cell_type": "code",
   "execution_count": 7,
   "metadata": {},
   "outputs": [
    {
     "data": {
      "text/plain": [
       "10"
      ]
     },
     "execution_count": 7,
     "metadata": {},
     "output_type": "execute_result"
    }
   ],
   "source": [
    "bancos.to_sql('openfinance_bancos', con=engine, if_exists='append', index=False)"
   ]
  },
  {
   "cell_type": "markdown",
   "metadata": {},
   "source": [
    "# Carregando Investimentos conectados a Quantum Finance"
   ]
  },
  {
   "cell_type": "code",
   "execution_count": 10,
   "metadata": {},
   "outputs": [
    {
     "data": {
      "text/html": [
       "<div>\n",
       "<style scoped>\n",
       "    .dataframe tbody tr th:only-of-type {\n",
       "        vertical-align: middle;\n",
       "    }\n",
       "\n",
       "    .dataframe tbody tr th {\n",
       "        vertical-align: top;\n",
       "    }\n",
       "\n",
       "    .dataframe thead th {\n",
       "        text-align: right;\n",
       "    }\n",
       "</style>\n",
       "<table border=\"1\" class=\"dataframe\">\n",
       "  <thead>\n",
       "    <tr style=\"text-align: right;\">\n",
       "      <th></th>\n",
       "      <th>tipo_investimento</th>\n",
       "      <th>risco</th>\n",
       "      <th>descricao</th>\n",
       "      <th>id_produto</th>\n",
       "    </tr>\n",
       "  </thead>\n",
       "  <tbody>\n",
       "    <tr>\n",
       "      <th>0</th>\n",
       "      <td>Poupança</td>\n",
       "      <td>Baixo risco</td>\n",
       "      <td>Rendimento moderado, abaixo da inflação em mui...</td>\n",
       "      <td>0</td>\n",
       "    </tr>\n",
       "    <tr>\n",
       "      <th>1</th>\n",
       "      <td>CDB</td>\n",
       "      <td>Baixo para médio risco</td>\n",
       "      <td>Rendimento superior à poupança, varia conforme...</td>\n",
       "      <td>0</td>\n",
       "    </tr>\n",
       "    <tr>\n",
       "      <th>2</th>\n",
       "      <td>RDB</td>\n",
       "      <td>Baixo para médio risco</td>\n",
       "      <td>Semelhante ao CDB, com liquidez diária em algu...</td>\n",
       "      <td>0</td>\n",
       "    </tr>\n",
       "    <tr>\n",
       "      <th>3</th>\n",
       "      <td>LCI/LCA</td>\n",
       "      <td>Baixo risco</td>\n",
       "      <td>Isento de imposto de renda para pessoa física,...</td>\n",
       "      <td>0</td>\n",
       "    </tr>\n",
       "    <tr>\n",
       "      <th>4</th>\n",
       "      <td>Fundos de Investimento</td>\n",
       "      <td>Variável</td>\n",
       "      <td>Depende do tipo do fundo (renda fixa, ações, e...</td>\n",
       "      <td>0</td>\n",
       "    </tr>\n",
       "  </tbody>\n",
       "</table>\n",
       "</div>"
      ],
      "text/plain": [
       "        tipo_investimento                   risco  \\\n",
       "0                Poupança             Baixo risco   \n",
       "1                     CDB  Baixo para médio risco   \n",
       "2                     RDB  Baixo para médio risco   \n",
       "3                 LCI/LCA             Baixo risco   \n",
       "4  Fundos de Investimento                Variável   \n",
       "\n",
       "                                           descricao  id_produto  \n",
       "0  Rendimento moderado, abaixo da inflação em mui...           0  \n",
       "1  Rendimento superior à poupança, varia conforme...           0  \n",
       "2  Semelhante ao CDB, com liquidez diária em algu...           0  \n",
       "3  Isento de imposto de renda para pessoa física,...           0  \n",
       "4  Depende do tipo do fundo (renda fixa, ações, e...           0  "
      ]
     },
     "execution_count": 10,
     "metadata": {},
     "output_type": "execute_result"
    }
   ],
   "source": [
    "investimentos = pd.read_csv('../data/investimentos_bancos.csv')\n",
    "investimentos.columns = ['tipo_investimento', 'risco', 'descricao']\n",
    "investimentos['id_produto'] = 0\n",
    "\n",
    "investimentos.head()"
   ]
  },
  {
   "cell_type": "code",
   "execution_count": 11,
   "metadata": {},
   "outputs": [
    {
     "data": {
      "text/plain": [
       "10"
      ]
     },
     "execution_count": 11,
     "metadata": {},
     "output_type": "execute_result"
    }
   ],
   "source": [
    "investimentos.to_sql('openfinance_produtos', con=engine, if_exists='append', index=False)"
   ]
  },
  {
   "cell_type": "markdown",
   "metadata": {},
   "source": [
    "# Carregando Clientes conectados a Quantum Finance"
   ]
  },
  {
   "cell_type": "code",
   "execution_count": 16,
   "metadata": {},
   "outputs": [
    {
     "data": {
      "text/html": [
       "<div>\n",
       "<style scoped>\n",
       "    .dataframe tbody tr th:only-of-type {\n",
       "        vertical-align: middle;\n",
       "    }\n",
       "\n",
       "    .dataframe tbody tr th {\n",
       "        vertical-align: top;\n",
       "    }\n",
       "\n",
       "    .dataframe thead th {\n",
       "        text-align: right;\n",
       "    }\n",
       "</style>\n",
       "<table border=\"1\" class=\"dataframe\">\n",
       "  <thead>\n",
       "    <tr style=\"text-align: right;\">\n",
       "      <th></th>\n",
       "      <th>customer_name</th>\n",
       "      <th>state</th>\n",
       "      <th>age</th>\n",
       "      <th>gender</th>\n",
       "      <th>salary</th>\n",
       "      <th>total_invested</th>\n",
       "      <th>id_cliente</th>\n",
       "    </tr>\n",
       "  </thead>\n",
       "  <tbody>\n",
       "    <tr>\n",
       "      <th>0</th>\n",
       "      <td>Guglielma Ripper</td>\n",
       "      <td>SC</td>\n",
       "      <td>22</td>\n",
       "      <td>M</td>\n",
       "      <td>23036.64</td>\n",
       "      <td>27801.45</td>\n",
       "      <td>0</td>\n",
       "    </tr>\n",
       "    <tr>\n",
       "      <th>1</th>\n",
       "      <td>Linc Mainson</td>\n",
       "      <td>TO</td>\n",
       "      <td>27</td>\n",
       "      <td>M</td>\n",
       "      <td>16192.56</td>\n",
       "      <td>32110.58</td>\n",
       "      <td>0</td>\n",
       "    </tr>\n",
       "    <tr>\n",
       "      <th>2</th>\n",
       "      <td>Loren Birwhistle</td>\n",
       "      <td>RJ</td>\n",
       "      <td>56</td>\n",
       "      <td>M</td>\n",
       "      <td>16053.01</td>\n",
       "      <td>34390.72</td>\n",
       "      <td>0</td>\n",
       "    </tr>\n",
       "    <tr>\n",
       "      <th>3</th>\n",
       "      <td>Clarie Robinet</td>\n",
       "      <td>PE</td>\n",
       "      <td>70</td>\n",
       "      <td>M</td>\n",
       "      <td>45925.22</td>\n",
       "      <td>81220.68</td>\n",
       "      <td>0</td>\n",
       "    </tr>\n",
       "    <tr>\n",
       "      <th>4</th>\n",
       "      <td>Brenden Josling</td>\n",
       "      <td>SE</td>\n",
       "      <td>67</td>\n",
       "      <td>F</td>\n",
       "      <td>24378.72</td>\n",
       "      <td>150108.87</td>\n",
       "      <td>0</td>\n",
       "    </tr>\n",
       "  </tbody>\n",
       "</table>\n",
       "</div>"
      ],
      "text/plain": [
       "      customer_name state  age gender    salary  total_invested  id_cliente\n",
       "0  Guglielma Ripper    SC   22      M  23036.64        27801.45           0\n",
       "1      Linc Mainson    TO   27      M  16192.56        32110.58           0\n",
       "2  Loren Birwhistle    RJ   56      M  16053.01        34390.72           0\n",
       "3    Clarie Robinet    PE   70      M  45925.22        81220.68           0\n",
       "4   Brenden Josling    SE   67      F  24378.72       150108.87           0"
      ]
     },
     "execution_count": 16,
     "metadata": {},
     "output_type": "execute_result"
    }
   ],
   "source": [
    "clientes = pd.read_csv('../data/clientes.csv')\n",
    "clientes['id_cliente'] = 0\n",
    "\n",
    "clientes.head()"
   ]
  },
  {
   "cell_type": "code",
   "execution_count": 17,
   "metadata": {},
   "outputs": [
    {
     "data": {
      "text/plain": [
       "1000"
      ]
     },
     "execution_count": 17,
     "metadata": {},
     "output_type": "execute_result"
    }
   ],
   "source": [
    "clientes.to_sql('quantumfinance_clientes', con=engine, if_exists='append', index=False)"
   ]
  },
  {
   "cell_type": "markdown",
   "metadata": {},
   "source": [
    "# Gerando dados das contas bancarias em outros bancos"
   ]
  },
  {
   "cell_type": "code",
   "execution_count": 41,
   "metadata": {},
   "outputs": [
    {
     "data": {
      "text/plain": [
       "(29874, 3)"
      ]
     },
     "execution_count": 41,
     "metadata": {},
     "output_type": "execute_result"
    }
   ],
   "source": [
    "cliente_produto = pd.DataFrame()\n",
    "\n",
    "for id_cliente in range(1, 1001):\n",
    "    cliente = pd.DataFrame({'id_cliente': id_cliente}, index=[0])\n",
    "    quantidade_bancos = random.randint(1, 10)\n",
    "    for _ in range(quantidade_bancos):\n",
    "        id_banco = random.randint(1, 10)\n",
    "        quantidade_produtos = random.randint(1, 10)  \n",
    "        for _ in range(quantidade_produtos):\n",
    "            cliente['id_banco'] = id_banco\n",
    "            cliente['id_produto'] = random.randint(1, 10)\n",
    "            cliente_produto = pd.concat([cliente_produto, cliente])\n",
    "\n",
    "cliente_produto.shape"
   ]
  },
  {
   "cell_type": "code",
   "execution_count": 45,
   "metadata": {},
   "outputs": [
    {
     "data": {
      "text/html": [
       "<div>\n",
       "<style scoped>\n",
       "    .dataframe tbody tr th:only-of-type {\n",
       "        vertical-align: middle;\n",
       "    }\n",
       "\n",
       "    .dataframe tbody tr th {\n",
       "        vertical-align: top;\n",
       "    }\n",
       "\n",
       "    .dataframe thead th {\n",
       "        text-align: right;\n",
       "    }\n",
       "</style>\n",
       "<table border=\"1\" class=\"dataframe\">\n",
       "  <thead>\n",
       "    <tr style=\"text-align: right;\">\n",
       "      <th></th>\n",
       "      <th>id_cliente</th>\n",
       "      <th>id_banco</th>\n",
       "      <th>id_produto</th>\n",
       "    </tr>\n",
       "  </thead>\n",
       "  <tbody>\n",
       "    <tr>\n",
       "      <th>0</th>\n",
       "      <td>1</td>\n",
       "      <td>4</td>\n",
       "      <td>2</td>\n",
       "    </tr>\n",
       "    <tr>\n",
       "      <th>0</th>\n",
       "      <td>1</td>\n",
       "      <td>4</td>\n",
       "      <td>3</td>\n",
       "    </tr>\n",
       "    <tr>\n",
       "      <th>0</th>\n",
       "      <td>1</td>\n",
       "      <td>4</td>\n",
       "      <td>9</td>\n",
       "    </tr>\n",
       "    <tr>\n",
       "      <th>0</th>\n",
       "      <td>1</td>\n",
       "      <td>4</td>\n",
       "      <td>4</td>\n",
       "    </tr>\n",
       "    <tr>\n",
       "      <th>0</th>\n",
       "      <td>1</td>\n",
       "      <td>3</td>\n",
       "      <td>10</td>\n",
       "    </tr>\n",
       "  </tbody>\n",
       "</table>\n",
       "</div>"
      ],
      "text/plain": [
       "   id_cliente  id_banco  id_produto\n",
       "0           1         4           2\n",
       "0           1         4           3\n",
       "0           1         4           9\n",
       "0           1         4           4\n",
       "0           1         3          10"
      ]
     },
     "execution_count": 45,
     "metadata": {},
     "output_type": "execute_result"
    }
   ],
   "source": [
    "cliente_produto.head()"
   ]
  },
  {
   "cell_type": "code",
   "execution_count": 46,
   "metadata": {},
   "outputs": [
    {
     "data": {
      "text/plain": [
       "29874"
      ]
     },
     "execution_count": 46,
     "metadata": {},
     "output_type": "execute_result"
    }
   ],
   "source": [
    "cliente_produto.to_sql('quantumfinance_cliente_produto', con=engine, if_exists='append', index=False)"
   ]
  }
 ],
 "metadata": {
  "kernelspec": {
   "display_name": "base",
   "language": "python",
   "name": "python3"
  },
  "language_info": {
   "codemirror_mode": {
    "name": "ipython",
    "version": 3
   },
   "file_extension": ".py",
   "mimetype": "text/x-python",
   "name": "python",
   "nbconvert_exporter": "python",
   "pygments_lexer": "ipython3",
   "version": "3.11.3"
  }
 },
 "nbformat": 4,
 "nbformat_minor": 2
}
